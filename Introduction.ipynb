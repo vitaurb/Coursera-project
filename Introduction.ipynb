{
 "cells": [
  {
   "cell_type": "markdown",
   "metadata": {},
   "source": [
    "## Introduction/Business problem"
   ]
  },
  {
   "cell_type": "markdown",
   "metadata": {},
   "source": [
    "### Business problem includes the following situation:\n",
    "US based company Bicycle Inc is looking for the new expansion opportunities. Since the company has a strong presence and great coverage of its shops in the United States, it wants to tackle new markets. Therefore, the company has decided to open its first bike shop in Europe. The company wants to know where to open its first shop. \n",
    "\n",
    "In order to deliver insightful recommendations, certain criteria will have to be considered. Therefore, some important questions will have to be answered: \n",
    "Does the city has large enough population?\n",
    "What is the climate in that city? Is it possible to ride a bike all year round?\n",
    "What is the percentage of the population using the bike? Is cycling popular in that city?\n",
    "Is the population active enough? What is the penetration of gyms in the city?\n",
    "What about the competitors - is there a large penetration of bike shops?\n",
    "\n",
    "\n",
    "This information is considered to be useful not only for the companies selling bikes but also for other companies promoting an active lifestyle - selling sporting clothes, sporting equipment, supplements, etc. In addition, enterprises renting sporting equipment could also be interested in such information. \n",
    "Even though I will be gathering information regarding bicycle usage, other data such as the size of the population, number of gyms in the city, climate conditions, allows to make important conclusions on overall lifestyle of the residents in the city."
   ]
  }
 ],
 "metadata": {
  "kernelspec": {
   "display_name": "Python",
   "language": "python",
   "name": "conda-env-python-py"
  },
  "language_info": {
   "codemirror_mode": {
    "name": "ipython",
    "version": 3
   },
   "file_extension": ".py",
   "mimetype": "text/x-python",
   "name": "python",
   "nbconvert_exporter": "python",
   "pygments_lexer": "ipython3",
   "version": "3.6.7"
  }
 },
 "nbformat": 4,
 "nbformat_minor": 4
}
