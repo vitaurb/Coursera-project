{
 "cells": [
  {
   "cell_type": "markdown",
   "metadata": {},
   "source": [
    "# Data"
   ]
  },
  {
   "cell_type": "markdown",
   "metadata": {},
   "source": [
    "In order to solve the business problem, the following data will be used:\n",
    "\n",
    "### Foursquare - gym penetration. \n",
    "This data is expected to show the activity of the population. The main idea is that the city that has more gyms or other places offering sports activities is considered to have more active residents than the city that has less of such places. Since cities vary in size, the activity of the city will be calculated as the number of gyms per 10,000 people.\n",
    "\n",
    "### Foursquare - bike shops. \n",
    "This data is projected to provide useful insights on two main things: \n",
    "\n",
    "1)  are there many competitors in the city? Will the company face a strong competition \t\t\tentering that market or is there still quite low penetration of bike shops in the city? As for \t\tgym penetration, competition will be calculated as the number of bike shops per 10,000 \t\tpeople. \n",
    "\n",
    "2) where is the best place in the city to open the first bike shop? Check-ins in bike shops \t\twill be taken as a guidance how many new costumers the bike shop has. Therefore, the \t\tlarge concentration of check-ins in certain area shows that those bike shops receive a \t\t\tsignificant number of customers. Such information could work as an indication where to \t\topen the bike shop in the city.\n",
    "\n",
    "\n",
    "### Eurostat (official statistics page of the European Union):\n",
    "population of EU capitals (capitals of the country are usually the largest cities in the country, therefore, only capitals will be taken). Such data will show the population size of the city.\n",
    "\n",
    "### Bicycle usage. \n",
    "The statistics on bicycle usage will be taken from the European Cyclists’ Federation page (link: https://ecf.com/resources/cycling-facts-and-figures)\n",
    "\n",
    "### Climate conditions. \n",
    "Average temperature in the cities will be taken from Wikipedia page (link: https://en.wikipedia.org/wiki/List_of_cities_by_average_temperature#Europe) and yearly precipitation level will be taken from https://www.currentresults.com/Weather/Europe/Cities/precipitation-annual-average.php "
   ]
  }
 ],
 "metadata": {
  "kernelspec": {
   "display_name": "Python",
   "language": "python",
   "name": "conda-env-python-py"
  },
  "language_info": {
   "codemirror_mode": {
    "name": "ipython",
    "version": 3
   },
   "file_extension": ".py",
   "mimetype": "text/x-python",
   "name": "python",
   "nbconvert_exporter": "python",
   "pygments_lexer": "ipython3",
   "version": "3.6.7"
  }
 },
 "nbformat": 4,
 "nbformat_minor": 4
}
